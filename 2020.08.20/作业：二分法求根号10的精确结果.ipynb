{
 "cells": [
  {
   "cell_type": "code",
   "execution_count": 23,
   "metadata": {},
   "outputs": [],
   "source": [
    "import time\n",
    "start=time.time()"
   ]
  },
  {
   "cell_type": "code",
   "execution_count": 24,
   "metadata": {},
   "outputs": [
    {
     "name": "stdout",
     "output_type": "stream",
     "text": [
      "0.000000000100\n"
     ]
    }
   ],
   "source": [
    "#先定义精确\n",
    "accuracy=1.0e-10\n",
    "print(format(accuracy,'.12f'))"
   ]
  },
  {
   "cell_type": "code",
   "execution_count": 49,
   "metadata": {},
   "outputs": [
    {
     "name": "stdout",
     "output_type": "stream",
     "text": [
      "二分法程序所花费的时间:9.775161743164062e-06\n",
      "二分法程序的结果:3.162277660187101\n"
     ]
    },
    {
     "data": {
      "text/plain": [
       "3.162277660187101"
      ]
     },
     "execution_count": 49,
     "metadata": {},
     "output_type": "execute_result"
    }
   ],
   "source": [
    "def sq10():\n",
    "    \"\"\"二分法\"\"\"\n",
    "    start = time.time()\n",
    "    left=3\n",
    "    right=4\n",
    "    mid=(right+left)/2\n",
    "    while right-left>accuracy:\n",
    "        if mid*mid>10:\n",
    "            right=mid\n",
    "        else:\n",
    "            left=mid\n",
    "        mid=(right+left)/2\n",
    "    end = time.time()\n",
    "    print(\"二分法程序所花费的时间:{}\".format(end - start))\n",
    "    print(\"二分法程序的结果:{}\".format(mid))\n",
    "    return mid\n",
    "sq10()"
   ]
  },
  {
   "cell_type": "code",
   "execution_count": 50,
   "metadata": {},
   "outputs": [
    {
     "data": {
      "text/plain": [
       "3.1622776601683795"
      ]
     },
     "execution_count": 50,
     "metadata": {},
     "output_type": "execute_result"
    }
   ],
   "source": [
    "import numpy as np\n",
    "np.sqrt(10)"
   ]
  },
  {
   "cell_type": "code",
   "execution_count": 51,
   "metadata": {},
   "outputs": [
    {
     "name": "stdout",
     "output_type": "stream",
     "text": [
      "迭代程序所花费的时间:2.3603439331054688e-05\n",
      "迭代法程序根号10的结果是:3.162277660177267\n"
     ]
    },
    {
     "data": {
      "text/plain": [
       "3.162277660177267"
      ]
     },
     "execution_count": 51,
     "metadata": {},
     "output_type": "execute_result"
    }
   ],
   "source": [
    "def myiter():\n",
    "    \"\"\"迭代法\"\"\"\n",
    "    start = time.time()\n",
    "    x=3.2\n",
    "    eta=2;\n",
    "    while abs(x * x - 10)>accuracy:\n",
    "        y = x * x - 10\n",
    "        dy = 2 * x\n",
    "        x=x-y/(eta*dy)\n",
    "        # // print(\"当前的x是:{}，当前的y是:{}\".format(x,y))\n",
    "    end = time.time()\n",
    "    print(\"迭代程序所花费的时间:{}\".format(end - start))\n",
    "    print(\"迭代法程序根号10的结果是:{}\".format(x))\n",
    "    return x\n",
    "myiter()"
   ]
  }
 ],
 "metadata": {
  "kernelspec": {
   "display_name": "Python 3",
   "language": "python",
   "name": "python3"
  },
  "language_info": {
   "codemirror_mode": {
    "name": "ipython",
    "version": 3
   },
   "file_extension": ".py",
   "mimetype": "text/x-python",
   "name": "python",
   "nbconvert_exporter": "python",
   "pygments_lexer": "ipython3",
   "version": "3.7.6"
  }
 },
 "nbformat": 4,
 "nbformat_minor": 4
}
