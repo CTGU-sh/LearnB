{
 "cells": [
  {
   "cell_type": "code",
   "execution_count": 12,
   "metadata": {},
   "outputs": [],
   "source": [
    "import pandas as pd\n",
    "from sklearn.metrics import mean_squared_error\n",
    "from sklearn.model_selection import train_test_split\n",
    "from sklearn.preprocessing import LabelEncoder\n",
    "from deepctr.models import DeepFM\n",
    "from deepctr.feature_column import SparseFeat,get_feature_names"
   ]
  },
  {
   "cell_type": "code",
   "execution_count": 10,
   "metadata": {},
   "outputs": [
    {
     "data": {
      "text/html": [
       "<div>\n",
       "<style scoped>\n",
       "    .dataframe tbody tr th:only-of-type {\n",
       "        vertical-align: middle;\n",
       "    }\n",
       "\n",
       "    .dataframe tbody tr th {\n",
       "        vertical-align: top;\n",
       "    }\n",
       "\n",
       "    .dataframe thead th {\n",
       "        text-align: right;\n",
       "    }\n",
       "</style>\n",
       "<table border=\"1\" class=\"dataframe\">\n",
       "  <thead>\n",
       "    <tr style=\"text-align: right;\">\n",
       "      <th></th>\n",
       "      <th>user_id</th>\n",
       "      <th>movie_id</th>\n",
       "      <th>rating</th>\n",
       "      <th>timestamp</th>\n",
       "      <th>title</th>\n",
       "      <th>genres</th>\n",
       "      <th>gender</th>\n",
       "      <th>age</th>\n",
       "      <th>occupation</th>\n",
       "      <th>zip</th>\n",
       "    </tr>\n",
       "  </thead>\n",
       "  <tbody>\n",
       "    <tr>\n",
       "      <th>0</th>\n",
       "      <td>3299</td>\n",
       "      <td>235</td>\n",
       "      <td>4</td>\n",
       "      <td>968035345</td>\n",
       "      <td>Ed Wood (1994)</td>\n",
       "      <td>Comedy|Drama</td>\n",
       "      <td>F</td>\n",
       "      <td>25</td>\n",
       "      <td>4</td>\n",
       "      <td>19119</td>\n",
       "    </tr>\n",
       "    <tr>\n",
       "      <th>1</th>\n",
       "      <td>3630</td>\n",
       "      <td>3256</td>\n",
       "      <td>3</td>\n",
       "      <td>966536874</td>\n",
       "      <td>Patriot Games (1992)</td>\n",
       "      <td>Action|Thriller</td>\n",
       "      <td>M</td>\n",
       "      <td>18</td>\n",
       "      <td>4</td>\n",
       "      <td>77005</td>\n",
       "    </tr>\n",
       "    <tr>\n",
       "      <th>2</th>\n",
       "      <td>517</td>\n",
       "      <td>105</td>\n",
       "      <td>4</td>\n",
       "      <td>976203603</td>\n",
       "      <td>Bridges of Madison County, The (1995)</td>\n",
       "      <td>Drama|Romance</td>\n",
       "      <td>F</td>\n",
       "      <td>25</td>\n",
       "      <td>14</td>\n",
       "      <td>55408</td>\n",
       "    </tr>\n",
       "    <tr>\n",
       "      <th>3</th>\n",
       "      <td>785</td>\n",
       "      <td>2115</td>\n",
       "      <td>3</td>\n",
       "      <td>975430389</td>\n",
       "      <td>Indiana Jones and the Temple of Doom (1984)</td>\n",
       "      <td>Action|Adventure</td>\n",
       "      <td>M</td>\n",
       "      <td>18</td>\n",
       "      <td>19</td>\n",
       "      <td>29307</td>\n",
       "    </tr>\n",
       "    <tr>\n",
       "      <th>4</th>\n",
       "      <td>5848</td>\n",
       "      <td>909</td>\n",
       "      <td>5</td>\n",
       "      <td>957782527</td>\n",
       "      <td>Apartment, The (1960)</td>\n",
       "      <td>Comedy|Drama</td>\n",
       "      <td>M</td>\n",
       "      <td>50</td>\n",
       "      <td>20</td>\n",
       "      <td>20009</td>\n",
       "    </tr>\n",
       "    <tr>\n",
       "      <th>...</th>\n",
       "      <td>...</td>\n",
       "      <td>...</td>\n",
       "      <td>...</td>\n",
       "      <td>...</td>\n",
       "      <td>...</td>\n",
       "      <td>...</td>\n",
       "      <td>...</td>\n",
       "      <td>...</td>\n",
       "      <td>...</td>\n",
       "      <td>...</td>\n",
       "    </tr>\n",
       "    <tr>\n",
       "      <th>195</th>\n",
       "      <td>1427</td>\n",
       "      <td>3596</td>\n",
       "      <td>3</td>\n",
       "      <td>974840560</td>\n",
       "      <td>Screwed (2000)</td>\n",
       "      <td>Comedy</td>\n",
       "      <td>M</td>\n",
       "      <td>25</td>\n",
       "      <td>12</td>\n",
       "      <td>21401</td>\n",
       "    </tr>\n",
       "    <tr>\n",
       "      <th>196</th>\n",
       "      <td>3868</td>\n",
       "      <td>1626</td>\n",
       "      <td>3</td>\n",
       "      <td>965855033</td>\n",
       "      <td>Fire Down Below (1997)</td>\n",
       "      <td>Action|Drama|Thriller</td>\n",
       "      <td>M</td>\n",
       "      <td>18</td>\n",
       "      <td>12</td>\n",
       "      <td>73112</td>\n",
       "    </tr>\n",
       "    <tr>\n",
       "      <th>197</th>\n",
       "      <td>249</td>\n",
       "      <td>2369</td>\n",
       "      <td>3</td>\n",
       "      <td>976730191</td>\n",
       "      <td>Desperately Seeking Susan (1985)</td>\n",
       "      <td>Comedy|Romance</td>\n",
       "      <td>F</td>\n",
       "      <td>18</td>\n",
       "      <td>14</td>\n",
       "      <td>48126</td>\n",
       "    </tr>\n",
       "    <tr>\n",
       "      <th>198</th>\n",
       "      <td>5720</td>\n",
       "      <td>349</td>\n",
       "      <td>4</td>\n",
       "      <td>958503395</td>\n",
       "      <td>Clear and Present Danger (1994)</td>\n",
       "      <td>Action|Adventure|Thriller</td>\n",
       "      <td>M</td>\n",
       "      <td>25</td>\n",
       "      <td>0</td>\n",
       "      <td>60610</td>\n",
       "    </tr>\n",
       "    <tr>\n",
       "      <th>199</th>\n",
       "      <td>877</td>\n",
       "      <td>1485</td>\n",
       "      <td>3</td>\n",
       "      <td>975270899</td>\n",
       "      <td>Liar Liar (1997)</td>\n",
       "      <td>Comedy</td>\n",
       "      <td>M</td>\n",
       "      <td>25</td>\n",
       "      <td>0</td>\n",
       "      <td>90631</td>\n",
       "    </tr>\n",
       "  </tbody>\n",
       "</table>\n",
       "<p>200 rows × 10 columns</p>\n",
       "</div>"
      ],
      "text/plain": [
       "     user_id  movie_id  rating  timestamp  \\\n",
       "0       3299       235       4  968035345   \n",
       "1       3630      3256       3  966536874   \n",
       "2        517       105       4  976203603   \n",
       "3        785      2115       3  975430389   \n",
       "4       5848       909       5  957782527   \n",
       "..       ...       ...     ...        ...   \n",
       "195     1427      3596       3  974840560   \n",
       "196     3868      1626       3  965855033   \n",
       "197      249      2369       3  976730191   \n",
       "198     5720       349       4  958503395   \n",
       "199      877      1485       3  975270899   \n",
       "\n",
       "                                           title                     genres  \\\n",
       "0                                 Ed Wood (1994)               Comedy|Drama   \n",
       "1                           Patriot Games (1992)            Action|Thriller   \n",
       "2          Bridges of Madison County, The (1995)              Drama|Romance   \n",
       "3    Indiana Jones and the Temple of Doom (1984)           Action|Adventure   \n",
       "4                          Apartment, The (1960)               Comedy|Drama   \n",
       "..                                           ...                        ...   \n",
       "195                               Screwed (2000)                     Comedy   \n",
       "196                       Fire Down Below (1997)      Action|Drama|Thriller   \n",
       "197             Desperately Seeking Susan (1985)             Comedy|Romance   \n",
       "198              Clear and Present Danger (1994)  Action|Adventure|Thriller   \n",
       "199                             Liar Liar (1997)                     Comedy   \n",
       "\n",
       "    gender  age  occupation    zip  \n",
       "0        F   25           4  19119  \n",
       "1        M   18           4  77005  \n",
       "2        F   25          14  55408  \n",
       "3        M   18          19  29307  \n",
       "4        M   50          20  20009  \n",
       "..     ...  ...         ...    ...  \n",
       "195      M   25          12  21401  \n",
       "196      M   18          12  73112  \n",
       "197      F   18          14  48126  \n",
       "198      M   25           0  60610  \n",
       "199      M   25           0  90631  \n",
       "\n",
       "[200 rows x 10 columns]"
      ]
     },
     "execution_count": 10,
     "metadata": {},
     "output_type": "execute_result"
    }
   ],
   "source": [
    "#数据加载\n",
    "data = pd.read_csv(\"movielens_sample.txt\")\n",
    "data"
   ]
  },
  {
   "cell_type": "code",
   "execution_count": 14,
   "metadata": {},
   "outputs": [
    {
     "data": {
      "text/plain": [
       "[SparseFeat(name='movie_id', vocabulary_size=187, embedding_dim=4, use_hash=False, dtype='int32', embeddings_initializer=<tensorflow.python.keras.initializers.RandomNormal object at 0x7f8c8006cb50>, embedding_name='movie_id', group_name='default_group', trainable=True),\n",
       " SparseFeat(name='user_id', vocabulary_size=193, embedding_dim=4, use_hash=False, dtype='int32', embeddings_initializer=<tensorflow.python.keras.initializers.RandomNormal object at 0x7f8c805c5490>, embedding_name='user_id', group_name='default_group', trainable=True),\n",
       " SparseFeat(name='gender', vocabulary_size=2, embedding_dim=4, use_hash=False, dtype='int32', embeddings_initializer=<tensorflow.python.keras.initializers.RandomNormal object at 0x7f8ca3744990>, embedding_name='gender', group_name='default_group', trainable=True),\n",
       " SparseFeat(name='age', vocabulary_size=7, embedding_dim=4, use_hash=False, dtype='int32', embeddings_initializer=<tensorflow.python.keras.initializers.RandomNormal object at 0x7f8ca3786650>, embedding_name='age', group_name='default_group', trainable=True),\n",
       " SparseFeat(name='occupation', vocabulary_size=20, embedding_dim=4, use_hash=False, dtype='int32', embeddings_initializer=<tensorflow.python.keras.initializers.RandomNormal object at 0x7f8ca3786150>, embedding_name='occupation', group_name='default_group', trainable=True),\n",
       " SparseFeat(name='zip', vocabulary_size=188, embedding_dim=4, use_hash=False, dtype='int32', embeddings_initializer=<tensorflow.python.keras.initializers.RandomNormal object at 0x7f8ca37861d0>, embedding_name='zip', group_name='default_group', trainable=True)]"
      ]
     },
     "execution_count": 14,
     "metadata": {},
     "output_type": "execute_result"
    }
   ],
   "source": [
    "sparse_features = [\"movie_id\", \"user_id\", \"gender\", \"age\", \"occupation\", \"zip\"]\n",
    "target = ['rating']\n",
    "\n",
    "# 对特征标签进行编码\n",
    "for feature in sparse_features:\n",
    "    lbe = LabelEncoder()\n",
    "    data[feature] = lbe.fit_transform(data[feature])\n",
    "# 计算每个特征中的 不同特征值的个数\n",
    "fixlen_feature_columns = [SparseFeat(feature, data[feature].nunique()) for feature in sparse_features]\n",
    "fixlen_feature_columns"
   ]
  },
  {
   "cell_type": "code",
   "execution_count": 16,
   "metadata": {},
   "outputs": [
    {
     "data": {
      "text/plain": [
       "['movie_id', 'user_id', 'gender', 'age', 'occupation', 'zip']"
      ]
     },
     "execution_count": 16,
     "metadata": {},
     "output_type": "execute_result"
    }
   ],
   "source": [
    "linear_feature_columns = fixlen_feature_columns\n",
    "dnn_feature_columns = fixlen_feature_columns\n",
    "feature_names = get_feature_names(linear_feature_columns + dnn_feature_columns)\n",
    "feature_names"
   ]
  },
  {
   "cell_type": "code",
   "execution_count": 17,
   "metadata": {},
   "outputs": [
    {
     "data": {
      "text/plain": [
       "{'movie_id': array([  6, 104, 185, 134, 116, 141,  46, 105,  89,  24, 130, 113,  30,\n",
       "        148, 107,  11,  60,  17,  43, 129,  69,  75,   2, 100,  25, 146,\n",
       "         96, 112,  97,  36, 138, 178,  13, 136,  67, 114, 112, 160, 103,\n",
       "        152, 108,  12,   7,  50,  39, 173,  76, 176, 101, 142, 170, 167,\n",
       "         98,  72, 149,  15, 125, 161, 186, 140, 166, 137,  78, 124,  40,\n",
       "        154,   8,  87, 156, 144,  57,  99,  66, 163, 180,   9,  44, 164,\n",
       "        126,  73, 106,  52,  16, 132, 133, 184,   9, 109,  86,  56, 155,\n",
       "        170, 182,  64,  33,  54, 102, 157,   1, 135,  38,  32,  35, 172,\n",
       "         66,  28,  42,  19,  72,  81,  34, 173,  27,   5, 174,  79,  55,\n",
       "         85,  22, 181,  47,  61, 127, 158,  83,  70, 126,  84,  49, 165,\n",
       "        117, 120,  35,  31,  77,  82,  21, 111, 123,  26,  34,  94,  74,\n",
       "          3,  62,  92,  71, 145,  10, 175,  20,  37, 115, 151,  90,  63,\n",
       "          4,  91, 147, 118]),\n",
       " 'user_id': array([ 12,  54,  28, 112, 144, 163,  81, 121, 131,  43, 146, 188, 134,\n",
       "         82,  59,  13,  98, 165, 102, 186, 111,   8,  14,  73,   9,  99,\n",
       "        138, 182, 173,  58,  55,  32,  15,  66,  69, 148,  21, 132,  18,\n",
       "         36,   1, 107, 185, 173,   3,  10,  31,  46, 143,   5,  11, 174,\n",
       "         35,  86, 109, 181,   4,  89,  67, 113, 136, 175, 129, 159,  78,\n",
       "         92, 150,  44,  24,  64,  30,  56, 183, 141, 145,  45,  22, 135,\n",
       "         37, 166,  80,   6,  51, 125, 116,  61, 184, 191,  25,  85, 105,\n",
       "        178, 106, 119,  91,  33,  48,  38, 180,  50,  19, 126,   0, 168,\n",
       "        154, 139,  16,  27,  90,  29, 172,   7,  39, 120,  68,  57, 152,\n",
       "         84, 190, 167, 149,  40, 103,  49,  52,  72,  94, 104,  76, 156,\n",
       "        176,  47, 133, 124,  63,  97,  96, 160, 147, 179, 157, 177, 101,\n",
       "         71, 155, 162,  17, 100, 170, 138,  20,  95, 128, 153,  60, 151,\n",
       "        130,  77, 117,  42]),\n",
       " 'gender': array([0, 1, 1, 1, 1, 1, 1, 0, 1, 0, 1, 1, 1, 0, 1, 0, 1, 0, 0, 1, 1, 0,\n",
       "        1, 0, 1, 1, 1, 0, 1, 1, 1, 1, 1, 1, 1, 0, 1, 1, 1, 1, 1, 0, 1, 1,\n",
       "        1, 1, 0, 1, 1, 1, 1, 1, 0, 1, 1, 1, 0, 1, 1, 0, 0, 1, 1, 1, 1, 0,\n",
       "        1, 1, 1, 1, 1, 1, 1, 1, 1, 1, 1, 0, 0, 1, 1, 1, 1, 1, 0, 1, 1, 0,\n",
       "        1, 1, 1, 0, 1, 1, 1, 1, 1, 1, 1, 1, 1, 1, 1, 1, 1, 1, 1, 0, 1, 1,\n",
       "        1, 1, 0, 0, 1, 0, 1, 0, 1, 1, 1, 1, 1, 1, 1, 1, 1, 0, 1, 0, 1, 1,\n",
       "        1, 1, 1, 0, 1, 1, 0, 1, 1, 0, 0, 1, 1, 0, 1, 1, 1, 1, 1, 1, 1, 1,\n",
       "        0, 1, 1, 0, 1, 0]),\n",
       " 'age': array([2, 2, 3, 3, 2, 4, 4, 1, 1, 2, 6, 2, 2, 4, 2, 2, 3, 2, 0, 2, 3, 3,\n",
       "        3, 6, 2, 1, 3, 2, 1, 1, 3, 1, 5, 5, 4, 2, 1, 2, 2, 1, 6, 2, 2, 1,\n",
       "        1, 3, 4, 2, 5, 2, 2, 2, 2, 5, 2, 2, 1, 2, 2, 4, 2, 4, 5, 3, 1, 5,\n",
       "        6, 3, 5, 2, 3, 2, 1, 5, 3, 2, 0, 2, 1, 2, 2, 5, 5, 2, 4, 2, 2, 2,\n",
       "        2, 3, 5, 2, 2, 2, 1, 1, 2, 3, 3, 2, 1, 4, 3, 3, 6, 5, 1, 5, 3, 2,\n",
       "        6, 2, 1, 4, 5, 5, 3, 0, 1, 1, 2, 3, 2, 2, 2, 3, 1, 2, 5, 5, 4, 2,\n",
       "        2, 3, 2, 3, 2, 5, 5, 6, 1, 2, 2, 6, 6, 3, 6, 4, 2, 3, 0, 5, 3, 2,\n",
       "        1, 2, 2, 1, 3, 2]),\n",
       " 'occupation': array([13, 19, 18,  1,  4,  1,  6, 14, 11,  7,  1,  7, 16,  1,  3,  0, 11,\n",
       "         8,  1,  1, 19,  0, 19, 12, 11,  0, 15, 10, 11,  4, 11,  4, 16, 15,\n",
       "        13,  1, 18, 19,  0,  4,  1,  4,  0, 11,  1,  7,  8, 11,  0, 11, 15,\n",
       "        10, 18,  1, 11,  0, 13, 13,  7,  1,  0,  7,  6,  0,  0, 19,  7, 14,\n",
       "         1,  0,  3, 19, 14, 11, 16,  0, 18, 14, 19,  7,  0, 14,  7,  4,  7,\n",
       "         0,  2, 14,  0,  1, 12,  6, 19,  0, 16,  4, 11,  2, 16,  0,  4,  7,\n",
       "         7,  1,  1,  7,  4,  0, 10,  0,  0,  2,  1,  0, 10,  6,  5,  9,  5,\n",
       "        13,  4,  4,  2,  0, 11, 16,  0, 17, 15, 17,  1,  7,  0,  7, 18, 19,\n",
       "         0, 13,  6, 15,  4, 16,  3, 12,  1,  4, 16,  1, 15, 15,  9, 11,  6,\n",
       "        13,  4,  2,  7,  4,  2, 13]),\n",
       " 'zip': array([ 99, 166, 159,  43,  79,  34,   4,   7, 113,  40,  76,  11,  84,\n",
       "        105, 173,  68, 171, 150, 137, 142,  59,  97,  23,   9,  96, 108,\n",
       "         75,   6, 134,   0, 170, 132,  64, 143, 165, 141,  55, 138,  67,\n",
       "        181,  86,  35, 146, 134,  24,  18, 169,  48,   1, 139,  93,  99,\n",
       "        128,  69, 120, 106,  83,  38, 151,  33,  42,   3,  30, 155,  94,\n",
       "         54,  70,  44,  45,  19,  27,  37, 153,  63,  39, 131,  89, 126,\n",
       "         85, 103,  77,  95,  53, 112,  57,  78, 115,  62, 136,  50, 154,\n",
       "          8,   5, 183,  90, 168, 147,  36,  17, 164, 180,  56, 100, 114,\n",
       "         51,  71, 149, 182,  80,  21, 119, 140, 158, 121, 144,  60, 172,\n",
       "         82, 175,  20, 186, 179, 135, 104, 123, 157,  88,  47,  15,  14,\n",
       "        145, 133, 127,  16,  29, 178,  22,  98,  81,  61, 109,   2,  92,\n",
       "        163,  71, 174,  65, 136,  58,  75,  72, 177,  91,  52, 118, 176,\n",
       "        102,  31, 107,  66])}"
      ]
     },
     "execution_count": 17,
     "metadata": {},
     "output_type": "execute_result"
    }
   ],
   "source": [
    "# 将数据集切分成训练集和测试集\n",
    "train, test = train_test_split(data, test_size=0.2)\n",
    "train_model_input = {name:train[name].values for name in feature_names}\n",
    "train_model_input"
   ]
  },
  {
   "cell_type": "code",
   "execution_count": 18,
   "metadata": {},
   "outputs": [
    {
     "data": {
      "text/plain": [
       "{'movie_id': array([169,  95,  27, 123,  45,  18, 150, 179,  48, 110,  88,  14,  29,\n",
       "        183,  59,  68,  51,  41, 143, 169, 168,  65, 149,  53,  93, 159,\n",
       "        121, 171,   0, 119, 177,  23, 122, 162,  80,  58, 131, 139, 153,\n",
       "        128]),\n",
       " 'user_id': array([110,  70, 189,  41, 187, 158,  29, 137,  74,  88, 118,  23, 108,\n",
       "         99, 169, 161,  79,  34, 114, 123, 192,  53, 142,   2,  40, 164,\n",
       "         62, 122,  26,  87, 115,  93,  65,  44, 171, 140,  75,  83, 127,\n",
       "         49]),\n",
       " 'gender': array([1, 1, 1, 1, 1, 1, 1, 1, 1, 1, 1, 0, 0, 1, 1, 0, 1, 0, 1, 1, 1, 1,\n",
       "        1, 1, 1, 0, 1, 1, 1, 0, 1, 0, 1, 1, 1, 1, 0, 1, 1, 1]),\n",
       " 'age': array([3, 4, 0, 2, 5, 3, 2, 2, 1, 1, 1, 2, 1, 1, 1, 6, 5, 2, 3, 1, 2, 5,\n",
       "        2, 1, 3, 5, 3, 6, 1, 2, 1, 3, 1, 3, 2, 2, 3, 5, 0, 2]),\n",
       " 'occupation': array([ 7, 19,  9, 18, 19, 16,  0, 18,  4,  4, 16, 15,  4,  0,  9,  2, 11,\n",
       "         3,  0,  4,  6, 15,  0,  4,  4, 11,  5, 16, 13,  3,  4,  0,  0, 14,\n",
       "        11, 16,  3, 13,  9,  0]),\n",
       " 'zip': array([116, 148,  46, 156,  41, 129,  21,  28, 101, 152, 111,  74, 130,\n",
       "        108, 110, 160, 125, 124, 183, 118,  26, 184,  73,  13, 179, 167,\n",
       "         25,  49, 117,  87, 122,  10, 162,  44, 161, 185, 187,  32,  12,\n",
       "        104])}"
      ]
     },
     "execution_count": 18,
     "metadata": {},
     "output_type": "execute_result"
    }
   ],
   "source": [
    "test_model_input = {name:test[name].values for name in feature_names}\n",
    "test_model_input"
   ]
  },
  {
   "cell_type": "code",
   "execution_count": 19,
   "metadata": {},
   "outputs": [
    {
     "name": "stderr",
     "output_type": "stream",
     "text": [
      "/opt/conda/lib/python3.7/site-packages/tensorflow/python/framework/indexed_slices.py:434: UserWarning: Converting sparse IndexedSlices to a dense Tensor of unknown shape. This may consume a large amount of memory.\n",
      "  \"Converting sparse IndexedSlices to a dense Tensor of unknown shape. \"\n"
     ]
    },
    {
     "name": "stdout",
     "output_type": "stream",
     "text": [
      "1/1 [==============================] - 1s 766ms/step - loss: 14.2890 - mse: 14.2890 - val_loss: 15.7949 - val_mse: 15.7949\n"
     ]
    },
    {
     "data": {
      "text/plain": [
       "<tensorflow.python.keras.engine.training.Model at 0x7f8c241acf50>"
      ]
     },
     "execution_count": 19,
     "metadata": {},
     "output_type": "execute_result"
    }
   ],
   "source": [
    "# 使用DeepFM进行训练\n",
    "model = DeepFM(linear_feature_columns, dnn_feature_columns, task='regression')\n",
    "model.compile(\"adam\", \"mse\", metrics=['mse'], )\n",
    "history = model.fit(train_model_input, train[target].values, batch_size=256, epochs=1, verbose=True, validation_split=0.2, )\n",
    "model"
   ]
  },
  {
   "cell_type": "code",
   "execution_count": 20,
   "metadata": {
    "scrolled": true
   },
   "outputs": [
    {
     "data": {
      "text/plain": [
       "array([[0.0144382 ],\n",
       "       [0.01441939],\n",
       "       [0.01500458],\n",
       "       [0.01428198],\n",
       "       [0.01447808],\n",
       "       [0.01450632],\n",
       "       [0.01657853],\n",
       "       [0.01427349],\n",
       "       [0.01441241],\n",
       "       [0.01448798],\n",
       "       [0.01463262],\n",
       "       [0.01426773],\n",
       "       [0.01449382],\n",
       "       [0.01654253],\n",
       "       [0.01421927],\n",
       "       [0.01420567],\n",
       "       [0.01446282],\n",
       "       [0.01373824],\n",
       "       [0.01580603],\n",
       "       [0.01446905],\n",
       "       [0.01381005],\n",
       "       [0.0143879 ],\n",
       "       [0.01546564],\n",
       "       [0.01449203],\n",
       "       [0.01630777],\n",
       "       [0.01441208],\n",
       "       [0.01442638],\n",
       "       [0.01449333],\n",
       "       [0.01446844],\n",
       "       [0.01372336],\n",
       "       [0.01446677],\n",
       "       [0.01453829],\n",
       "       [0.01459706],\n",
       "       [0.01637971],\n",
       "       [0.01430004],\n",
       "       [0.01435131],\n",
       "       [0.01385697],\n",
       "       [0.01445062],\n",
       "       [0.0140951 ],\n",
       "       [0.01619717]], dtype=float32)"
      ]
     },
     "execution_count": 20,
     "metadata": {},
     "output_type": "execute_result"
    }
   ],
   "source": [
    "# 使用DeepFM进行预测\n",
    "pred_ans = model.predict(test_model_input, batch_size=256)\n",
    "pred_ans"
   ]
  },
  {
   "cell_type": "code",
   "execution_count": 22,
   "metadata": {},
   "outputs": [
    {
     "data": {
      "text/plain": [
       "12.1536"
      ]
     },
     "execution_count": 22,
     "metadata": {},
     "output_type": "execute_result"
    }
   ],
   "source": [
    "# 输出MSE\n",
    "mse = round(mean_squared_error(test[target].values, pred_ans), 4)\n",
    "mse"
   ]
  },
  {
   "cell_type": "code",
   "execution_count": 23,
   "metadata": {},
   "outputs": [
    {
     "data": {
      "text/plain": [
       "3.4862013711201483"
      ]
     },
     "execution_count": 23,
     "metadata": {},
     "output_type": "execute_result"
    }
   ],
   "source": [
    "# 输出RMSE\n",
    "rmse = mse ** 0.5\n",
    "rmse"
   ]
  }
 ],
 "metadata": {
  "kernelspec": {
   "display_name": "Python 3",
   "language": "python",
   "name": "python3"
  },
  "language_info": {
   "codemirror_mode": {
    "name": "ipython",
    "version": 3
   },
   "file_extension": ".py",
   "mimetype": "text/x-python",
   "name": "python",
   "nbconvert_exporter": "python",
   "pygments_lexer": "ipython3",
   "version": "3.7.6"
  }
 },
 "nbformat": 4,
 "nbformat_minor": 4
}
