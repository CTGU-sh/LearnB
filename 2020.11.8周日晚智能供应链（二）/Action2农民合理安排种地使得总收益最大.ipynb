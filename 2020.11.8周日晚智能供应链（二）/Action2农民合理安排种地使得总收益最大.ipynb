{
 "cells": [
  {
   "cell_type": "code",
   "execution_count": 9,
   "metadata": {},
   "outputs": [],
   "source": [
    "import pulp\n",
    "import numpy as np"
   ]
  },
  {
   "cell_type": "code",
   "execution_count": 10,
   "metadata": {},
   "outputs": [],
   "source": [
    "# 单位收益（元/亩）\n",
    "costs = np.array([[500, 550, 630, 1000, 800, 700],\n",
    "                  [800, 700, 600, 950, 900, 930],\n",
    "                  [1000, 960, 840, 650, 600, 700],\n",
    "                  [1200, 1040, 980, 860, 880, 780]])\n",
    "max_plant = [76, 88, 96, 40]#计划播种面积\n",
    "max_cultivation = [42, 56, 44, 39, 60, 59]#地块儿面积"
   ]
  },
  {
   "cell_type": "code",
   "execution_count": 11,
   "metadata": {},
   "outputs": [],
   "source": [
    "#定义农村问题函数\n",
    "def farming_problem(costs, x_max, y_max):\n",
    "    row = len(costs)\n",
    "    col = len(costs[0])\n",
    "    print('row:{} col:{}'.format(row,col))\n",
    "    # 定义初始问题\n",
    "    prob = pulp.LpProblem('Transportation', sense=pulp.LpMaximize)\n",
    "    # 定义相关变量\n",
    "    var = [[pulp.LpVariable('x{}{}'.format(i,j), lowBound=0, cat=pulp.LpInteger) for j in range(col)] for i in range(row)]\n",
    "    # 递归展开列表\n",
    "    flatten = lambda x: [y for l in x for y in flatten(l)] if type(x) is list else [x]\n",
    "    print('var=', var)\n",
    "    print('flatten=', flatten)\n",
    "    print('var[1]', var[1])\n",
    "    # 定义目标函数 \n",
    "    prob += pulp.lpDot(flatten(var), costs.flatten())\n",
    "    # 定义约束条件\n",
    "    for i in range(row):\n",
    "        prob += pulp.lpSum(var[i]) <= x_max[i]\n",
    "    for j in range(col):\n",
    "        prob += pulp.lpSum([var[i][j] for i in range(row)]) <= y_max[j]\n",
    "\n",
    "    prob.solve()\n",
    "    result = {'objective':pulp.value(prob.objective), \\\n",
    "              'var': [[pulp.value(var[i][j]) for j in range(col)] for i in range(row)]}\n",
    "    return result"
   ]
  },
  {
   "cell_type": "code",
   "execution_count": 12,
   "metadata": {},
   "outputs": [
    {
     "name": "stdout",
     "output_type": "stream",
     "text": [
      "row:4 col:6\n",
      "var= [[x00, x01, x02, x03, x04, x05], [x10, x11, x12, x13, x14, x15], [x20, x21, x22, x23, x24, x25], [x30, x31, x32, x33, x34, x35]]\n",
      "flatten= <function farming_problem.<locals>.<lambda> at 0x7fe9311e5d40>\n",
      "var[1] [x10, x11, x12, x13, x14, x15]\n"
     ]
    },
    {
     "data": {
      "text/plain": [
       "{'objective': 284230.0,\n",
       " 'var': [[0.0, 0.0, 6.0, 39.0, 31.0, 0.0],\n",
       "  [0.0, 0.0, 0.0, 0.0, 29.0, 59.0],\n",
       "  [2.0, 56.0, 38.0, 0.0, 0.0, 0.0],\n",
       "  [40.0, 0.0, 0.0, 0.0, 0.0, 0.0]]}"
      ]
     },
     "execution_count": 12,
     "metadata": {},
     "output_type": "execute_result"
    }
   ],
   "source": [
    "result = farming_problem(costs, max_plant, max_cultivation)\n",
    "result"
   ]
  },
  {
   "cell_type": "code",
   "execution_count": 13,
   "metadata": {},
   "outputs": [
    {
     "name": "stdout",
     "output_type": "stream",
     "text": [
      "最大值为284230.0\n",
      "各变量的取值为：[[0.0, 0.0, 6.0, 39.0, 31.0, 0.0], [0.0, 0.0, 0.0, 0.0, 29.0, 59.0], [2.0, 56.0, 38.0, 0.0, 0.0, 0.0], [40.0, 0.0, 0.0, 0.0, 0.0, 0.0]]\n"
     ]
    }
   ],
   "source": [
    "print('最大值为{}'.format(result[\"objective\"]))\n",
    "print('各变量的取值为：{}'.format(result['var'] ))"
   ]
  }
 ],
 "metadata": {
  "kernelspec": {
   "display_name": "Python 3",
   "language": "python",
   "name": "python3"
  },
  "language_info": {
   "codemirror_mode": {
    "name": "ipython",
    "version": 3
   },
   "file_extension": ".py",
   "mimetype": "text/x-python",
   "name": "python",
   "nbconvert_exporter": "python",
   "pygments_lexer": "ipython3",
   "version": "3.7.6"
  }
 },
 "nbformat": 4,
 "nbformat_minor": 4
}
